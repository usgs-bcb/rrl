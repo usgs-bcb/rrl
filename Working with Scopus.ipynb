{
 "cells": [
  {
   "cell_type": "markdown",
   "metadata": {},
   "source": [
    "Scopus (Elsevier and ScienceDirect) should be another good source of metadata for our research references. I need to keep working with the various API end points to come up with the right combination of queries and data structures, and some of these are going to have to be run from inside the USGS network. Scopus uses a combination of originating IP and a registered API key to authorize some of the APIs based on institution subscription.\n",
    "\n",
    "Initially, this notebook just runs through the cases where we've already determined a DOI and grabs a basic Scopus record for future reference."
   ]
  },
  {
   "cell_type": "code",
   "execution_count": 1,
   "metadata": {
    "collapsed": true
   },
   "outputs": [],
   "source": [
    "import requests\n",
    "from IPython.display import display\n",
    "from datetime import datetime\n",
    "from bis import dd\n",
    "from bis import rrl"
   ]
  },
  {
   "cell_type": "code",
   "execution_count": 2,
   "metadata": {
    "collapsed": true
   },
   "outputs": [],
   "source": [
    "bis = dd.getDB(\"bis\")\n",
    "collection_rrl = bis[\"RRL\"]"
   ]
  },
  {
   "cell_type": "code",
   "execution_count": null,
   "metadata": {},
   "outputs": [
    {
     "name": "stdout",
     "output_type": "stream",
     "text": [
      "0 <pymongo.results.UpdateResult object at 0x10763a6c0>\n",
      "1 <pymongo.results.UpdateResult object at 0x106eb13f0>\n",
      "2 <pymongo.results.UpdateResult object at 0x107657e10>\n",
      "3 <pymongo.results.UpdateResult object at 0x1074c8318>\n",
      "4 <pymongo.results.UpdateResult object at 0x1059c3e58>\n",
      "5 <pymongo.results.UpdateResult object at 0x106ef3af8>\n",
      "6 <pymongo.results.UpdateResult object at 0x106eb13f0>\n",
      "7 <pymongo.results.UpdateResult object at 0x107657e10>\n",
      "8 <pymongo.results.UpdateResult object at 0x10763a048>\n",
      "9 <pymongo.results.UpdateResult object at 0x106d9d990>\n",
      "10 <pymongo.results.UpdateResult object at 0x107331048>\n",
      "11 <pymongo.results.UpdateResult object at 0x106ea0dc8>\n",
      "12 <pymongo.results.UpdateResult object at 0x107657e10>\n",
      "13 <pymongo.results.UpdateResult object at 0x106ea00d8>\n",
      "14 <pymongo.results.UpdateResult object at 0x10763a048>\n",
      "15 <pymongo.results.UpdateResult object at 0x107331048>\n",
      "16 <pymongo.results.UpdateResult object at 0x106eb13f0>\n",
      "17 <pymongo.results.UpdateResult object at 0x107331048>\n",
      "18 <pymongo.results.UpdateResult object at 0x1076a11f8>\n",
      "19 <pymongo.results.UpdateResult object at 0x106ef3af8>\n",
      "20 <pymongo.results.UpdateResult object at 0x106e98480>\n",
      "21 <pymongo.results.UpdateResult object at 0x1059c3e58>\n",
      "22 <pymongo.results.UpdateResult object at 0x106ea0090>\n",
      "23 <pymongo.results.UpdateResult object at 0x106eb13f0>\n",
      "24 <pymongo.results.UpdateResult object at 0x106ea0090>\n",
      "25 <pymongo.results.UpdateResult object at 0x106d9d990>\n",
      "26 <pymongo.results.UpdateResult object at 0x106e98480>\n",
      "27 <pymongo.results.UpdateResult object at 0x106eb13f0>\n",
      "28 <pymongo.results.UpdateResult object at 0x106ef3af8>\n",
      "29 <pymongo.results.UpdateResult object at 0x10763a7e0>\n",
      "30 <pymongo.results.UpdateResult object at 0x106d9d990>\n",
      "31 <pymongo.results.UpdateResult object at 0x10763a678>\n",
      "32 <pymongo.results.UpdateResult object at 0x107657e10>\n",
      "33 <pymongo.results.UpdateResult object at 0x10763a7e0>\n",
      "34 <pymongo.results.UpdateResult object at 0x106ea0090>\n",
      "35 <pymongo.results.UpdateResult object at 0x1065d13f0>\n",
      "36 <pymongo.results.UpdateResult object at 0x106ea00d8>\n",
      "37 <pymongo.results.UpdateResult object at 0x107657e10>\n",
      "38 <pymongo.results.UpdateResult object at 0x1076a17e0>\n",
      "39 <pymongo.results.UpdateResult object at 0x106d9d990>\n",
      "40 <pymongo.results.UpdateResult object at 0x107331048>\n",
      "41 <pymongo.results.UpdateResult object at 0x10763a7e0>\n",
      "42 <pymongo.results.UpdateResult object at 0x107657e10>\n",
      "43 <pymongo.results.UpdateResult object at 0x106ea0090>\n",
      "44 <pymongo.results.UpdateResult object at 0x106d9d990>\n",
      "45 <pymongo.results.UpdateResult object at 0x1076a1798>\n",
      "46 <pymongo.results.UpdateResult object at 0x10763a7e0>\n",
      "47 <pymongo.results.UpdateResult object at 0x106d9d990>\n",
      "48 <pymongo.results.UpdateResult object at 0x107657e10>\n",
      "49 <pymongo.results.UpdateResult object at 0x106ea00d8>\n",
      "50 <pymongo.results.UpdateResult object at 0x107331048>\n",
      "51 <pymongo.results.UpdateResult object at 0x106d9d990>\n",
      "52 <pymongo.results.UpdateResult object at 0x10763a7e0>\n",
      "53 <pymongo.results.UpdateResult object at 0x107657e10>\n",
      "54 <pymongo.results.UpdateResult object at 0x106d9d990>\n",
      "55 <pymongo.results.UpdateResult object at 0x107657e10>\n",
      "56 <pymongo.results.UpdateResult object at 0x10763a7e0>\n",
      "57 <pymongo.results.UpdateResult object at 0x107657e10>\n",
      "58 <pymongo.results.UpdateResult object at 0x106d9d990>\n",
      "59 <pymongo.results.UpdateResult object at 0x107657e10>\n",
      "60 <pymongo.results.UpdateResult object at 0x10763a7e0>\n",
      "61 <pymongo.results.UpdateResult object at 0x106d9d990>\n",
      "62 <pymongo.results.UpdateResult object at 0x10763a7e0>\n",
      "63 <pymongo.results.UpdateResult object at 0x106d9d990>\n",
      "64 <pymongo.results.UpdateResult object at 0x1062cec18>\n",
      "65 <pymongo.results.UpdateResult object at 0x107657e10>\n",
      "66 <pymongo.results.UpdateResult object at 0x1062d4090>\n",
      "67 <pymongo.results.UpdateResult object at 0x106d9d990>\n",
      "68 <pymongo.results.UpdateResult object at 0x107657e10>\n",
      "69 <pymongo.results.UpdateResult object at 0x1062ce5e8>\n",
      "70 <pymongo.results.UpdateResult object at 0x10763a7e0>\n",
      "71 <pymongo.results.UpdateResult object at 0x106d9d990>\n"
     ]
    }
   ],
   "source": [
    "count = 0\n",
    "for record in collection_rrl.find({\"$and\":[{\"$or\":[{\"CrossRef.Record.DOI\":{\"$exists\":True}},{\"Link Metadata.Link Response.DOI\":{\"$exists\":True}}]},{\"Scopus.ScopusRecord\":{\"$exists\":False}}]}):\n",
    "    try:\n",
    "        recordDOI = record[\"Link Metadata\"][\"Link Response\"][\"DOI\"]\n",
    "    except:\n",
    "        recordDOI = record[\"CrossRef\"][\"Record\"][\"DOI\"]\n",
    "    \n",
    "    scopusSearch = rrl.ResearchReferenceLibrary.lookup_scopus_by_doi(recordDOI)\n",
    "    scopusRecord = {}\n",
    "    scopusRecord[\"Date Retrieved\"] = datetime.utcnow().isoformat()\n",
    "    scopusRecord[\"Search Term\"] = \"doi\"\n",
    "    scopusRecord[\"Search Value\"] = recordDOI\n",
    "\n",
    "    if scopusSearch[\"search-results\"][\"opensearch:totalResults\"] == \"1\":\n",
    "        scopusRecord[\"Cached Result\"] = scopusSearch[\"search-results\"][\"entry\"][0]\n",
    "    else:\n",
    "        scopusRecord[\"Cached Result\"] = False\n",
    "\n",
    "    print (count, collection_rrl.update_one({\"_id\":record[\"_id\"]},{\"$set\":{\"Scopus.ScopusRecord\":scopusRecord}}))\n",
    "    \n",
    "    count = count + 1\n",
    "    "
   ]
  },
  {
   "cell_type": "markdown",
   "metadata": {
    "collapsed": true
   },
   "source": [
    "# Next Steps\n",
    "The next thing I'll try once I get back into the office is to grab the citation summary for each of these and work with the search APIs to see where I can fill in blanks. Scopus search will be a little more difficult than CrossRef search in that I need to get a reasonable parsing of the citation metadata to use its parts instead of just sending along the messy string. So, I'll need to revisit the parsing mechanisms again to see how good I can make those."
   ]
  },
  {
   "cell_type": "code",
   "execution_count": null,
   "metadata": {
    "collapsed": true
   },
   "outputs": [],
   "source": []
  }
 ],
 "metadata": {
  "kernelspec": {
   "display_name": "Python 3",
   "language": "python",
   "name": "python3"
  },
  "language_info": {
   "codemirror_mode": {
    "name": "ipython",
    "version": 3
   },
   "file_extension": ".py",
   "mimetype": "text/x-python",
   "name": "python",
   "nbconvert_exporter": "python",
   "pygments_lexer": "ipython3",
   "version": "3.6.3"
  }
 },
 "nbformat": 4,
 "nbformat_minor": 2
}
